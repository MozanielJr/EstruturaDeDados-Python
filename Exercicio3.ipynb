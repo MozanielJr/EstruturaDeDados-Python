{
 "cells": [
  {
   "cell_type": "code",
   "execution_count": 1,
   "id": "6dc01088-33ab-463c-b393-f683aae3a158",
   "metadata": {},
   "outputs": [
    {
     "name": "stdout",
     "output_type": "stream",
     "text": [
      "\n",
      "Opções:\n",
      "1. Adicionar jogador\n",
      "2. Listar jogadores\n",
      "3. Atualizar jogador\n",
      "4. Excluir jogador\n",
      "5. Sair\n"
     ]
    },
    {
     "name": "stdin",
     "output_type": "stream",
     "text": [
      "Escolha a opcao:  5\n"
     ]
    },
    {
     "name": "stdout",
     "output_type": "stream",
     "text": [
      "Saindo do programa.\n"
     ]
    }
   ],
   "source": [
    "# Elabore um simples CRUD em estrutura map para manipular uma coleção de jogadores\n",
    "# (número da camisa, nome dos jogadores), limitada a 20 jogadores onde o usuário informará os\n",
    "# nomes manualmente.\n",
    "\n",
    "jogadores = {}\n",
    "\n",
    "\n",
    "\n",
    "def criar_jogador():\n",
    "    if len(jogadores) >= 20:\n",
    "        print(\"A colecao de jogadores esta cheia (limite maximo alcancado).\")\n",
    "        return\n",
    "\n",
    "    camisa = input(\"Informe o numero da camisa do jogador: \")\n",
    "    nome = input(\"Informe o nome do jogador: \")\n",
    "\n",
    "    if camisa in jogadores:\n",
    "        print(f\"Jogador com numero da camisa {camisa} ja existe.\")\n",
    "    else:\n",
    "        jogadores[camisa] = nome\n",
    "        print(f\"Jogador {nome} foi adicionado com sucesso!\")\n",
    "\n",
    "\n",
    "\n",
    "def listar_jogadores():\n",
    "    if not jogadores:\n",
    "        print(\"A colecao esta vazia.\")\n",
    "    else:\n",
    "        print(\"Lista de jogadores:\")\n",
    "        for camisa, nome in jogadores.items():\n",
    "            print(f\"Num. Camisa: {camisa}, Nome: {nome}\")\n",
    "\n",
    "\n",
    "\n",
    "def atualizar_jogador():\n",
    "    listar_jogadores()\n",
    "    camisa = input(\"Digite o numero da camisa do jogador que deseja atualizar: \")\n",
    "\n",
    "    if camisa in jogadores:\n",
    "        novo_nome = input(f\"Digite o novo nome para o jogador com numero da camisa {camisa}: \")\n",
    "        jogadores[camisa] = novo_nome\n",
    "        print(f\"Jogador com numero da camisa {camisa} atualizado!\")\n",
    "    else:\n",
    "        print(f\"Jogador com numero da camisa {camisa} nao encontrado.\")\n",
    "\n",
    "\n",
    "\n",
    "def excluir_jogador():\n",
    "    listar_jogadores()\n",
    "    camisa = input(\"Digite o numero da camisa do jogador que deseja excluir: \")\n",
    "\n",
    "    if camisa in jogadores:\n",
    "        jogador_excluido = jogadores.pop(camisa)\n",
    "        print(f\"Jogador com numero da camisa {camisa} ({jogador_excluido}) excluido!\")\n",
    "    else:\n",
    "        print(f\"Jogador com numero da camisa {camisa} não encontrado.\")\n",
    "\n",
    "\n",
    "\n",
    "while True:\n",
    "    print(\"\\nOpções:\")\n",
    "    print(\"1. Adicionar jogador\")\n",
    "    print(\"2. Listar jogadores\")\n",
    "    print(\"3. Atualizar jogador\")\n",
    "    print(\"4. Excluir jogador\")\n",
    "    print(\"5. Sair\")\n",
    "\n",
    "    opcao = input(\"Escolha a opcao: \")\n",
    "\n",
    "    if opcao == \"1\":\n",
    "        criar_jogador()\n",
    "    elif opcao == \"2\":\n",
    "        listar_jogadores()\n",
    "    elif opcao == \"3\":\n",
    "        atualizar_jogador()\n",
    "    elif opcao == \"4\":\n",
    "        excluir_jogador()\n",
    "    elif opcao == \"5\":\n",
    "        print(\"Saindo do programa.\")\n",
    "        break\n",
    "    else:\n",
    "        print(\"Opcao invalida. Tente novamente.\")\n"
   ]
  },
  {
   "cell_type": "code",
   "execution_count": null,
   "id": "360ff248-3dd2-4686-a776-295499ad80bf",
   "metadata": {},
   "outputs": [],
   "source": []
  }
 ],
 "metadata": {
  "kernelspec": {
   "display_name": "Python 3 (ipykernel)",
   "language": "python",
   "name": "python3"
  },
  "language_info": {
   "codemirror_mode": {
    "name": "ipython",
    "version": 3
   },
   "file_extension": ".py",
   "mimetype": "text/x-python",
   "name": "python",
   "nbconvert_exporter": "python",
   "pygments_lexer": "ipython3",
   "version": "3.11.5"
  }
 },
 "nbformat": 4,
 "nbformat_minor": 5
}
