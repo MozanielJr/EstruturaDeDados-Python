{
 "cells": [
  {
   "cell_type": "code",
   "execution_count": 5,
   "id": "9de52975-3fd7-443c-90a0-bb4e983b3b0f",
   "metadata": {},
   "outputs": [
    {
     "name": "stdout",
     "output_type": "stream",
     "text": [
      "\n",
      "Opcoes:\n",
      "1. Adicionar pais\n",
      "2. Listar paises\n",
      "3. Atualizar pais\n",
      "4. Excluir pais\n",
      "5. Sair\n"
     ]
    },
    {
     "name": "stdin",
     "output_type": "stream",
     "text": [
      "Escolha a opcao:  1\n",
      "Informe o nome do pais que deseja adicionar:  teste\n"
     ]
    },
    {
     "name": "stdout",
     "output_type": "stream",
     "text": [
      "O pais 'teste' adicionado com sucesso!\n",
      "\n",
      "Opcoes:\n",
      "1. Adicionar pais\n",
      "2. Listar paises\n",
      "3. Atualizar pais\n",
      "4. Excluir pais\n",
      "5. Sair\n"
     ]
    },
    {
     "name": "stdin",
     "output_type": "stream",
     "text": [
      "Escolha a opcao:  2\n"
     ]
    },
    {
     "name": "stdout",
     "output_type": "stream",
     "text": [
      "Lista de paises:\n"
     ]
    },
    {
     "ename": "ValueError",
     "evalue": "'pais' is not in list",
     "output_type": "error",
     "traceback": [
      "\u001b[1;31m---------------------------------------------------------------------------\u001b[0m",
      "\u001b[1;31mValueError\u001b[0m                                Traceback (most recent call last)",
      "Cell \u001b[1;32mIn[5], line 69\u001b[0m\n\u001b[0;32m     67\u001b[0m     criar_pais()\n\u001b[0;32m     68\u001b[0m \u001b[38;5;28;01melif\u001b[39;00m opcao \u001b[38;5;241m==\u001b[39m \u001b[38;5;124m\"\u001b[39m\u001b[38;5;124m2\u001b[39m\u001b[38;5;124m\"\u001b[39m:\n\u001b[1;32m---> 69\u001b[0m     \u001b[43mler_paises\u001b[49m\u001b[43m(\u001b[49m\u001b[43m)\u001b[49m\n\u001b[0;32m     70\u001b[0m \u001b[38;5;28;01melif\u001b[39;00m opcao \u001b[38;5;241m==\u001b[39m \u001b[38;5;124m\"\u001b[39m\u001b[38;5;124m3\u001b[39m\u001b[38;5;124m\"\u001b[39m:\n\u001b[0;32m     71\u001b[0m     atualizar_pais()\n",
      "Cell \u001b[1;32mIn[5], line 18\u001b[0m, in \u001b[0;36mler_paises\u001b[1;34m()\u001b[0m\n\u001b[0;32m     16\u001b[0m \u001b[38;5;28mprint\u001b[39m(\u001b[38;5;124m\"\u001b[39m\u001b[38;5;124mLista de paises:\u001b[39m\u001b[38;5;124m\"\u001b[39m)\n\u001b[0;32m     17\u001b[0m \u001b[38;5;28;01mfor\u001b[39;00m pais \u001b[38;5;129;01min\u001b[39;00m paises:\n\u001b[1;32m---> 18\u001b[0m     \u001b[38;5;28mprint\u001b[39m(\u001b[43mpaises\u001b[49m\u001b[38;5;241;43m.\u001b[39;49m\u001b[43mindex\u001b[49m\u001b[43m(\u001b[49m\u001b[38;5;124;43m'\u001b[39;49m\u001b[38;5;124;43mpais\u001b[39;49m\u001b[38;5;124;43m'\u001b[39;49m\u001b[43m)\u001b[49m)\n",
      "\u001b[1;31mValueError\u001b[0m: 'pais' is not in list"
     ]
    }
   ],
   "source": [
    "# Elabore um CRUD na estrutura list para manipular nomes de países, o usuário informará os\n",
    "# nomes manualmente.\n",
    "    \n",
    "paises = []\n",
    "\n",
    "\n",
    "\n",
    "def criar_pais():\n",
    "    novo_pais = input(\"Informe o nome do pais que deseja adicionar: \")\n",
    "    paises.append(novo_pais)\n",
    "    print(f\"O pais '{novo_pais}' adicionado com sucesso!\")\n",
    "\n",
    "\n",
    "\n",
    "def ler_paises():\n",
    "    if not paises:\n",
    "        print(\"Não há países na lista\")\n",
    "    else:\n",
    "        print(paises\"Lista de paises:\")\n",
    "        for pais in paises:\n",
    "            print(pais)\n",
    "\n",
    "\n",
    "\n",
    "def atualizar_pais():\n",
    "    if not paises:\n",
    "        print(\"Não há países na lista para atualizar.\")\n",
    "        return\n",
    "\n",
    "    ler_paises()\n",
    "    indice = int(input(\"Digite o numero do pais que deseja alterar: \")) - 1\n",
    "\n",
    "    if indice < 0 or indice >= len(paises):\n",
    "        print(\"Indice invalido. Tente novamente.\")\n",
    "        return\n",
    "    else:\n",
    "        novo_nome = input(f\"Digite o novo nome para '{paises[indice]}': \")\n",
    "        paises[indice] = novo_nome\n",
    "        print(f\"Pais '{novo_nome}' atualizado!\")\n",
    "\n",
    "# Função para excluir um país\n",
    "def excluir_pais():\n",
    "    if not paises:\n",
    "        print(\"Não há países na lista para excluir.\")\n",
    "        return\n",
    "    \n",
    "    ler_paises()\n",
    "    indice = int(input(\"Digite o numero do pais que deseja excluir: \")) - 1\n",
    "\n",
    "    if indice < 0 or indice >= len(paises):\n",
    "        print(\"Indice invalido. Tente novamente.\")\n",
    "        return\n",
    "    else:\n",
    "        pais_excluido = paises.pop(indice)\n",
    "        print(f\"O pais '{pais_excluido}' foi excluido!\")\n",
    "\n",
    "\n",
    "# Loop principal do programa\n",
    "while True:\n",
    "    print(\"\\nOpcoes:\")\n",
    "    print(\"1. Adicionar pais\")\n",
    "    print(\"2. Listar paises\")\n",
    "    print(\"3. Atualizar pais\")\n",
    "    print(\"4. Excluir pais\")\n",
    "    print(\"5. Sair\")\n",
    "\n",
    "    opcao = input(\"Escolha a opcao: \")\n",
    "\n",
    "    if opcao == \"1\":\n",
    "        criar_pais()\n",
    "    elif opcao == \"2\":\n",
    "        ler_paises()\n",
    "    elif opcao == \"3\":\n",
    "        atualizar_pais()\n",
    "    elif opcao == \"4\":\n",
    "        excluir_pais()\n",
    "    elif opcao == \"5\":\n",
    "        print(\"Saindo do programa.\")\n",
    "        break\n",
    "    else:\n",
    "        print(\"Opcao invalida.\")\n"
   ]
  },
  {
   "cell_type": "code",
   "execution_count": null,
   "id": "bad30bf2-31bd-4a1f-9854-796c92a8c921",
   "metadata": {},
   "outputs": [],
   "source": []
  }
 ],
 "metadata": {
  "kernelspec": {
   "display_name": "Python 3 (ipykernel)",
   "language": "python",
   "name": "python3"
  },
  "language_info": {
   "codemirror_mode": {
    "name": "ipython",
    "version": 3
   },
   "file_extension": ".py",
   "mimetype": "text/x-python",
   "name": "python",
   "nbconvert_exporter": "python",
   "pygments_lexer": "ipython3",
   "version": "3.11.5"
  }
 },
 "nbformat": 4,
 "nbformat_minor": 5
}
