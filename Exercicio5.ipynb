{
 "cells": [
  {
   "cell_type": "code",
   "execution_count": 3,
   "id": "45c57340-f093-4ec8-a24e-0e03b397cf53",
   "metadata": {},
   "outputs": [
    {
     "name": "stdout",
     "output_type": "stream",
     "text": [
      "[20, 40, 44, 60, 70, 81, 90, 110, 120, 150]\n"
     ]
    }
   ],
   "source": [
    "# Realize um rápido estudo sobre ordenação de valores utilizando o método da bolha (Bubble Sort)\n",
    "\n",
    "# O bubble sort realiza múltiplas passagem por uma lista. \n",
    "# Ele compara itens adjacentes e troca aqueles que estão fora de ordem.\n",
    "# Cada passagem pela lista coloca o próximo maior valor na sua posição correta. \n",
    "# Em essência, cada item se desloca como uma “bolha” para a posição à qual pertence.\n",
    "\n",
    "\n",
    "# A operação de troca, às vezes chamada de “swap”, é ligeiramente diferente em Python, \n",
    "# quando comparada a outras linguagens de programação. \n",
    "# Tipicamente, a troca de dois elementos numa lista requer o uso de uma variável para armazenamento temporário.\n",
    "# O trecho de código abaixo:\n",
    "\n",
    "# temp = alist[i]\n",
    "# alist[i] = alist[j]\n",
    "# alist[j] = temp\n",
    "\n",
    "\n",
    "# Irá trocar os i-ésimos com os j-ésimos itens na lista. Sem a variável de armazenamento temorário, um dos valores seria sobrescrito.\n",
    "\n",
    "# Em Python, porém, é possível realizar atribuições simultâneas. A expressão a,b=b,a irá resultar em duas atribuições sendo feitas ao mesmo tempo.\n",
    "# Usando atribuições simultâneas, a troca pode ser feita em uma única linha.\n",
    "\n",
    "def shortBubbleSort(alist):\n",
    "    exchanges = True\n",
    "    passnum = len(alist)-1\n",
    "    while passnum > 0 and exchanges:\n",
    "       exchanges = False\n",
    "       for i in range(passnum):\n",
    "           if alist[i]>alist[i+1]:\n",
    "               exchanges = True\n",
    "               temp = alist[i]\n",
    "               alist[i] = alist[i+1]\n",
    "               alist[i+1] = temp\n",
    "       passnum = passnum-1\n",
    "\n",
    "alist=[20,44,40,90,81,60,70,150,120,110]\n",
    "shortBubbleSort(alist)\n",
    "print(alist)"
   ]
  },
  {
   "cell_type": "code",
   "execution_count": null,
   "id": "fb0ec274-21e0-407a-ba75-dd09ec6ff474",
   "metadata": {},
   "outputs": [],
   "source": []
  }
 ],
 "metadata": {
  "kernelspec": {
   "display_name": "Python 3 (ipykernel)",
   "language": "python",
   "name": "python3"
  },
  "language_info": {
   "codemirror_mode": {
    "name": "ipython",
    "version": 3
   },
   "file_extension": ".py",
   "mimetype": "text/x-python",
   "name": "python",
   "nbconvert_exporter": "python",
   "pygments_lexer": "ipython3",
   "version": "3.11.5"
  }
 },
 "nbformat": 4,
 "nbformat_minor": 5
}
