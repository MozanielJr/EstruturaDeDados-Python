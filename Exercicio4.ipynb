{
 "cells": [
  {
   "cell_type": "code",
   "execution_count": 2,
   "id": "933cac4c-4d48-4bed-a2ba-7ff9c17162a9",
   "metadata": {},
   "outputs": [
    {
     "name": "stdout",
     "output_type": "stream",
     "text": [
      "\n",
      "Escolha uma opcao:\n",
      "1. Adicionar Informação\n",
      "2. Listar Informação\n",
      "3. Alterar Informação\n",
      "4. Excluir Informação\n",
      "5. Sair\n"
     ]
    },
    {
     "name": "stdin",
     "output_type": "stream",
     "text": [
      "Opcao:  1\n",
      "Digite a informacao:  Teste de adicao\n"
     ]
    },
    {
     "name": "stdout",
     "output_type": "stream",
     "text": [
      "\n",
      "Escolha uma opcao:\n",
      "1. Adicionar Informação\n",
      "2. Listar Informação\n",
      "3. Alterar Informação\n",
      "4. Excluir Informação\n",
      "5. Sair\n"
     ]
    },
    {
     "name": "stdin",
     "output_type": "stream",
     "text": [
      "Opcao:  2\n"
     ]
    },
    {
     "name": "stdout",
     "output_type": "stream",
     "text": [
      "informacoes:\n",
      "Teste de adicao\n",
      "\n",
      "Escolha uma opcao:\n",
      "1. Adicionar Informação\n",
      "2. Listar Informação\n",
      "3. Alterar Informação\n",
      "4. Excluir Informação\n",
      "5. Sair\n"
     ]
    },
    {
     "name": "stdin",
     "output_type": "stream",
     "text": [
      "Opcao:  3\n"
     ]
    },
    {
     "name": "stdout",
     "output_type": "stream",
     "text": [
      "Informacoes disponíveis para alteração:\n",
      "1. Teste de adicao\n"
     ]
    },
    {
     "name": "stdin",
     "output_type": "stream",
     "text": [
      "Digite o número da informacao que deseja alterar:  1\n",
      "Digite uma nova informacao:  teste de subtracao\n"
     ]
    },
    {
     "name": "stdout",
     "output_type": "stream",
     "text": [
      "Informacao alterada com sucesso.\n",
      "\n",
      "Escolha uma opcao:\n",
      "1. Adicionar Informação\n",
      "2. Listar Informação\n",
      "3. Alterar Informação\n",
      "4. Excluir Informação\n",
      "5. Sair\n"
     ]
    },
    {
     "name": "stdin",
     "output_type": "stream",
     "text": [
      "Opcao:  2\n"
     ]
    },
    {
     "name": "stdout",
     "output_type": "stream",
     "text": [
      "informacoes:\n",
      "teste de subtracao\n",
      "\n",
      "Escolha uma opcao:\n",
      "1. Adicionar Informação\n",
      "2. Listar Informação\n",
      "3. Alterar Informação\n",
      "4. Excluir Informação\n",
      "5. Sair\n"
     ]
    },
    {
     "name": "stdin",
     "output_type": "stream",
     "text": [
      "Opcao:  4\n"
     ]
    },
    {
     "name": "stdout",
     "output_type": "stream",
     "text": [
      "Informacoes disponíveis para exclusão:\n",
      "1. teste de subtracao\n"
     ]
    },
    {
     "name": "stdin",
     "output_type": "stream",
     "text": [
      "Digite o número da informacao que deseja excluir:  1\n"
     ]
    },
    {
     "name": "stdout",
     "output_type": "stream",
     "text": [
      "Informacao teste de subtracao excluída com sucesso.\n",
      "\n",
      "Escolha uma opcao:\n",
      "1. Adicionar Informação\n",
      "2. Listar Informação\n",
      "3. Alterar Informação\n",
      "4. Excluir Informação\n",
      "5. Sair\n"
     ]
    },
    {
     "name": "stdin",
     "output_type": "stream",
     "text": [
      "Opcao:  5\n"
     ]
    }
   ],
   "source": [
    "# Elabore uma simples manipulação de arquivo (TXT) com funções para adicionar, listar, alterar\n",
    "# e excluir\n",
    "\n",
    "\n",
    "def adicionar_informacao():\n",
    "    with open('informacao.txt', 'a') as file:\n",
    "        novo_texto = input(\"Digite a informacao: \")\n",
    "        file.write(novo_texto + '\\n')\n",
    "\n",
    "\n",
    "def listar_informacoes():\n",
    "        with open('informacao.txt', 'r') as file:\n",
    "            informacoes = file.readlines()\n",
    "            if informacoes:\n",
    "                print(\"informacoes:\")\n",
    "                for informacao in informacoes:\n",
    "                    print(informacao.strip())\n",
    "            else:\n",
    "                print(\"O arquivo está vazio.\")\n",
    "   \n",
    "\n",
    "\n",
    "def alterar_informacao():\n",
    "   \n",
    "        with open('informacao.txt', 'r') as file:\n",
    "            informacoes = file.readlines()\n",
    "\n",
    "        if informacoes:\n",
    "            print(\"Informacoes disponíveis para alteração:\")\n",
    "            for i, informacao in enumerate(informacoes):\n",
    "                print(f\"{i+1}. {informacao.strip()}\")\n",
    "\n",
    "            indice = int(input(\"Digite o número da informacao que deseja alterar: \")) - 1\n",
    "\n",
    "            if 0 <= indice < len(informacoes):\n",
    "                novo_valor = input(\"Digite uma nova informacao: \")\n",
    "                informacoes[indice] = novo_valor + '\\n'\n",
    "\n",
    "                with open('informacao.txt', 'w') as file:\n",
    "                    file.writelines(informacoes)\n",
    "                print(\"Informacao alterada com sucesso.\")\n",
    "            else:\n",
    "                print(\"Índice inválido.\")\n",
    "        else:\n",
    "            print(\"O arquivo está vazio.\")\n",
    "   \n",
    "def excluir_informacao():\n",
    "    try:\n",
    "        with open('informacao.txt', 'r') as file:\n",
    "            informacoes = file.readlines()\n",
    "\n",
    "        if informacoes:\n",
    "            print(\"Informacoes disponíveis para exclusão:\")\n",
    "            for i, informacao in enumerate(informacoes):\n",
    "                print(f\"{i+1}. {informacao.strip()}\")\n",
    "\n",
    "            indice = int(input(\"Digite o número da informacao que deseja excluir: \")) - 1\n",
    "\n",
    "            if 0 <= indice < len(informacoes):\n",
    "                informacao_excluida = informacoes.pop(indice)\n",
    "\n",
    "                with open('informacao.txt', 'w') as file:\n",
    "                    file.writelines(informacoes)\n",
    "                print(f\"Informacao {informacao_excluida.strip()} excluída com sucesso.\")\n",
    "            else:\n",
    "                print(\"Índice inválido.\")\n",
    "        else:\n",
    "            print(\"O arquivo está vazio.\")\n",
    "    except FileNotFoundError:\n",
    "        print(\"O arquivo ainda não existe.\")\n",
    "\n",
    "\n",
    "# Exemplo de uso das funções\n",
    "arquivo_tarefas = 'tarefas.txt'\n",
    "\n",
    "while True:\n",
    "    print(\"\\nEscolha uma opcao:\")\n",
    "    print(\"1. Adicionar Informação\")\n",
    "    print(\"2. Listar Informação\")\n",
    "    print(\"3. Alterar Informação\")\n",
    "    print(\"4. Excluir Informação\")\n",
    "    print(\"5. Sair\")\n",
    "\n",
    "    opcao = input(\"Opcao: \")\n",
    "\n",
    "    if opcao == '1':\n",
    "        adicionar_informacao()\n",
    "    elif opcao == '2':\n",
    "        listar_informacoes()\n",
    "    elif opcao == '3':\n",
    "        alterar_informacao()\n",
    "    elif opcao == '4':\n",
    "        excluir_informacao()\n",
    "    elif opcao == '5':\n",
    "        break\n",
    "    else:\n",
    "        print(\"Opção inválida. Por favor, tente novamente.\")\n",
    "\n",
    "\n",
    "\n",
    "\n",
    "\n"
   ]
  },
  {
   "cell_type": "code",
   "execution_count": null,
   "id": "81bcfe1b-e357-4bbd-928f-1f7bf267cdd4",
   "metadata": {},
   "outputs": [],
   "source": []
  }
 ],
 "metadata": {
  "kernelspec": {
   "display_name": "Python 3 (ipykernel)",
   "language": "python",
   "name": "python3"
  },
  "language_info": {
   "codemirror_mode": {
    "name": "ipython",
    "version": 3
   },
   "file_extension": ".py",
   "mimetype": "text/x-python",
   "name": "python",
   "nbconvert_exporter": "python",
   "pygments_lexer": "ipython3",
   "version": "3.11.5"
  }
 },
 "nbformat": 4,
 "nbformat_minor": 5
}
