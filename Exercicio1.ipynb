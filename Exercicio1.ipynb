{
 "cells": [
  {
   "cell_type": "code",
   "execution_count": 6,
   "id": "6ee02dd2-b4e0-4b1b-be28-2b2af0f6cdc9",
   "metadata": {},
   "outputs": [
    {
     "name": "stdout",
     "output_type": "stream",
     "text": [
      "['chocolate', 'biscoito', 'cafe', 'suco', 'feijao', 'arroz']\n",
      "[]\n"
     ]
    }
   ],
   "source": [
    "# Estudos das funções List, Set e map\n",
    "\n",
    "# List\n",
    "\n",
    "# Em Python, list é uma estrutura de dados utilizada para armazenar elementos de forma sequencial e ordenada. \n",
    "# As listas são acessadas por meio de um índice que inicia com o valor 0 para o primeiro elemento e é incrementada com 1 a cada novo item.\n",
    "# Além disso, o último item da lista é representado pelo índice “–1”.\n",
    "\n",
    "palavras = [\"chocolate\",\"biscoito\", \"cafe\", \"suco\", \"feijao\", \"arroz\"] \n",
    "print (palavras)\n",
    "\n",
    "# Em Python, uma lista é representada como uma sequência de objetos separados por vírgula e dentro de colchetes [], assim, uma lista vazia, \n",
    "# por exemplo, pode ser representada por colchetes sem nenhum conteúdo.\n",
    "\n",
    "palavras = []\n",
    "print (palavras)\n",
    "\n"
   ]
  },
  {
   "cell_type": "code",
   "execution_count": 4,
   "id": "90f9ec6f-57df-47b7-b202-a307c3585474",
   "metadata": {},
   "outputs": [
    {
     "name": "stdout",
     "output_type": "stream",
     "text": [
      "{10, 11, 12, 13, 14, 15}\n"
     ]
    }
   ],
   "source": [
    "# Set\n",
    "\n",
    "\n",
    "# Em Python, um Set (conjunto) é uma coleção não-ordenada de valores únicos, empregada para armazenar múltiplos itens em um objeto. \n",
    "# Algumas das principais características dos conjuntos incluem: Armazena apenas itens não-duplicados (únicos) \n",
    "# Suporta operações matemáticas sobre conjuntos (união, intersecção, etc)\n",
    "# Os sets são uma coleção de itens desordenada, parcialmente imutável e que não podem conter elementos duplicados. \n",
    "# Por ser parcialmente imutável, os sets possuem permissão de adição e remoção de elementos.\n",
    "\n",
    "ids = {10, 12, 13, 14}\n",
    "\n",
    "novos_ids = {11, 13, 15}\n",
    "\n",
    "ids.update(novos_ids)\n",
    "\n",
    "print(ids)\n"
   ]
  },
  {
   "cell_type": "code",
   "execution_count": 2,
   "id": "693e4c54-4bbc-40d5-abbe-f9e102059c02",
   "metadata": {},
   "outputs": [
    {
     "name": "stdout",
     "output_type": "stream",
     "text": [
      "[6, 7, 8, 9, 10]\n"
     ]
    }
   ],
   "source": [
    "# Map\n",
    "\n",
    "# A função map é uma função integrada (interna) em Python que permite aplicar uma determinada função a cada elemento de um iterável \n",
    "# (como uma lista, tupla ou conjunto) e retorna um objeto map que contém os resultados.\n",
    "\n",
    "# Muitas vezes, enfrentamos situações em que precisamos executar a mesma operação em todos os itens de um iterável de entrada\n",
    "# (uma lista, um set, uma tupla) para se construir um novo iterável.\n",
    "# A abordagem mais comum para esse tipo de problema é usar loops for ou while do Python.\n",
    "# Contudo, você também pode resolver esse problema sem um loop de repetição, usando a função map() disponível na biblioteca padrão da própria linguagem\n",
    "# (sem precisar instalar algo com pip ou importar com import).\n",
    "\n",
    "# Suponha que você tenha uma lista de números e que lhe pedissem para somar 5 a todos os valores da lista.\n",
    "\n",
    "\n",
    "def soma_5(numero):\n",
    "    return numero + 5\n",
    "\n",
    "lista = [1, 2, 3, 4, 5]\n",
    "resultado = list(map(soma_5, lista))\n",
    "print(resultado)\n"
   ]
  },
  {
   "cell_type": "code",
   "execution_count": 3,
   "id": "ef34726d-fb16-4bab-bc61-47fcb318d3e1",
   "metadata": {},
   "outputs": [
    {
     "name": "stdout",
     "output_type": "stream",
     "text": [
      "[1.0, 32.0, 729.0]\n"
     ]
    }
   ],
   "source": [
    "# A função map possibilita passarmos múltiplos iteráveis de entrada.\n",
    "# Para isso, é necessária uma função que possua dois ou mais argumentos.\n",
    "\n",
    "from math import pow\n",
    "\n",
    "numeros = [1, 2, 3]\n",
    "expoentes = [4, 5, 6, 7]\n",
    "\n",
    "resultado = list(map(pow, numeros, expoentes)) \n",
    "\n",
    "print(resultado)"
   ]
  },
  {
   "cell_type": "code",
   "execution_count": null,
   "id": "f9d5b610-e208-44d1-b2cc-a26508e7a4e1",
   "metadata": {},
   "outputs": [],
   "source": []
  }
 ],
 "metadata": {
  "kernelspec": {
   "display_name": "Python 3 (ipykernel)",
   "language": "python",
   "name": "python3"
  },
  "language_info": {
   "codemirror_mode": {
    "name": "ipython",
    "version": 3
   },
   "file_extension": ".py",
   "mimetype": "text/x-python",
   "name": "python",
   "nbconvert_exporter": "python",
   "pygments_lexer": "ipython3",
   "version": "3.11.5"
  }
 },
 "nbformat": 4,
 "nbformat_minor": 5
}
