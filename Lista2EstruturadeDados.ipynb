import getpass
import os

# Definindo o usuário e senha
usuario_cadastrado = "diego"
senha_cadastrada = "123456"

# Função para autenticar o usuário
def autenticar_usuario():
    usuario = input("Digite seu nome de usuário: ")
    senha = getpass.getpass("Digite sua senha: ")

    if usuario == usuario_cadastrado and senha == senha_cadastrada:
        return True
    else:
        return False

# Função para listar produto pelo ID

def listar_produto_por_id(produtos, produto_id):
    for produto in produtos:
        if produto["id"] == produto_id:
            print(produto)
            return
    print(f"Produto com ID {produto_id} não encontrado.")
    
# Função para listar todos os produtos
def listar_produtos(produtos):
    for produto in produtos:
        print(produto)

# Função para cadastrar um novo produto
def cadastrar_produto(produtos):
    novo_produto = {}
    novo_produto["id"] = len(produtos) + 1
    novo_produto["descricao"] = input("Descrição do produto: ")
    novo_produto["peso"] = float(input("Peso do produto: "))
    novo_produto["valor"] = float(input("Valor do produto: "))
    novo_produto["fornecedor"] = input("Fornecedor do produto: ")
    produtos.append(novo_produto)
    print("Produto cadastrado com sucesso.")

# Função para editar um produto
def editar_produto(produtos, produto_id):
    for produto in produtos:
        if produto["id"] == produto_id:
            produto["descricao"] = input("Nova descrição do produto: ")
            produto["peso"] = float(input("Novo peso do produto: "))
            produto["valor"] = float(input("Novo valor do produto: "))
            produto["fornecedor"] = input("Novo fornecedor do produto: ")
            print("Produto editado com sucesso.")
            return
    print(f"Produto com ID {produto_id} não encontrado.")

# Função para excluir um produto
def excluir_produto(produtos, produto_id):
    for produto in produtos:
        if produto["id"] == produto_id:
            produtos.remove(produto)
            print("Produto excluído com sucesso.")
            return
    print(f"Produto com ID {produto_id} não encontrado.")

# Função para salvar produtos em um arquivo
def salvar_produtos(produtos):
    with open("produtos.txt", "w") as file:
        for produto in produtos:
            file.write(f"{produto['id']},{produto['descricao']},{produto['peso']},{produto['valor']},{produto['fornecedor']}\n")

# Função para carregar produtos de um arquivo
def carregar_produtos():
    produtos = []
    if os.path.exists("produtos.txt"):
        with open("produtos.txt", "r") as file:
            linhas = file.read().splitlines()
            for linha in linhas:
                dados = linha.split(',')
                produto = {
                    "id": int(dados[0]),
                    "descricao": dados[1],
                    "peso": float(dados[2]),
                    "valor": float(dados[3]),
                    "fornecedor": dados[4]
                }
                produtos.append(produto)
    return produtos

# Função para ordenar os produtos usando Bubble Sort
def bubble_sort(produtos, coluna, ordem):
    reverse = ordem == "e"

    coluna_map = {
        "f": "id",
        "g": "descricao",
        "h": "peso",
        "i": "valor",
        "j": "fornecedor"
    }

    if coluna in coluna_map:
        coluna_real = coluna_map[coluna]
        for i in range(1, len(produtos)):
            chave = produtos[i]
            j = i - 1
            while j >= 0 and chave[coluna_real] > produtos[j][coluna_real]:
                produtos[j + 1] = produtos[j]
                j -= 1
            produtos[j + 1] = chave
        if reverse:
            produtos.reverse()  # Inverte a lista se a ordem for decrescente
        print("Produtos ordenados com sucesso.")
    else:
        print("Opção de coluna inválida.")

# Função para ordenar os produtos usando Insertion Sort
def insertion_sort(produtos, coluna, ordem):
    reverse = ordem == "e"

    coluna_map = {
        "f": "id",
        "g": "descricao",
        "h": "peso",
        "i": "valor",
        "j": "fornecedor"
    }

    if coluna in coluna_map:
        coluna_real = coluna_map[coluna]
        for i in range(1, len(produtos)):
            chave = produtos[i]
            j = i - 1
            while j >= 0 and chave[coluna_real] > produtos[j][coluna_real]:
                produtos[j + 1] = produtos[j]
                j -= 1
            produtos[j + 1] = chave
        if reverse:
            produtos.reverse()
        print("Produtos ordenados com sucesso.")
    else:
        print("Opção de coluna inválida.")

# Função para ordenar os produtos usando Selection Sort
def selection_sort(produtos, coluna, ordem):
    reverse = ordem == "e"

    coluna_map = {
        "f": "id",
        "g": "descricao",
        "h": "peso",
        "i": "valor",
        "j": "fornecedor"
    }

    if coluna in coluna_map:
        coluna_real = coluna_map[coluna]
        for i in range(len(produtos)):
            min_idx = i
            for j in range(i + 1, len(produtos)):
                if produtos[j][coluna_real] < produtos[min_idx][coluna_real]:
                    min_idx = j
            produtos[i], produtos[min_idx] = produtos[min_idx], produtos[i]
        if reverse:
            produtos.reverse()
        print("Produtos ordenados com sucesso.")
    else:
        print("Opção de coluna inválida.")

# Função para exibir o menu principal
def exibir_menu():
    print("=== MENU ===")
    print("(1) Listar todos os produtos")
    print("(2) Listar produto pelo ID")
    print("(3) Listar todos os produtos ordenados (A/Z)")
    print("(4) Cadastrar novo produto")
    print("(5) Editar produto")
    print("(6) Excluir produto")
    print("(7) Sair do programa")
# Função principal

def main():
    # Autenticar o usuário
    while not autenticar_usuario():
        print("Usuário ou senha incorretos. Tente novamente.")

    print("Acesso liberado.")

    produtos = carregar_produtos()

    while True:
        exibir_menu()
        opcao = input("Escolha uma opção: ")

        if opcao == "1":
            listar_produtos(produtos)
        elif opcao == "2":
            produto_id = int(input("Digite o ID do produto: "))
            listar_produto_por_id(produtos, produto_id)
        elif opcao == "3":
            print("=== MENU: Listar todos os produtos ordenados (A/Z) ===")
            print("METODOS")
            print("(a) - Bubble sort")
            print("(b) - Insertion sort")
            print("(c) - Selection sort")
            escolha_metodo = input("Escolha o método (a/b/c): ")

            if escolha_metodo in ["a", "b", "c"]:
                print("COLUNA")
                print("(f) - id")
                print("(g) - descricao")
                print("(h) - peso")
                print("(i) - valor")
                print("(j) - fornecedor")
                escolha_coluna = input("Escolha a coluna (f/g/h/i/j): ")

                if escolha_coluna in ["f", "g", "h", "i", "j"]:
                    print("ORDEM")
                    print("(d) - crescente")
                    print("(e) - decrescente")
                    escolha_ordem = input("Escolha a ordem (d/e): ")

                    if escolha_ordem in ["d", "e"]:
                        if escolha_metodo == "a":
                            bubble_sort(produtos, escolha_coluna, escolha_ordem)
                        elif escolha_metodo == "b":
                            insertion_sort(produtos, escolha_coluna, escolha_ordem)
                        elif escolha_metodo == "c":
                            selection_sort(produtos, escolha_coluna, escolha_ordem)
                        listar_produtos(produtos)

                    else:
                        print("Opção de ordem inválida. Escolha novamente.")
                else:
                    print("Opção de coluna inválida. Escolha novamente.")
            else:
                print("Opção de método de ordenação inválida. Escolha novamente.")
        elif opcao == "4":
            cadastrar_produto(produtos)
        elif opcao == "5":
            produto_id = int(input("Digite o ID do produto a ser editado: "))
            editar_produto(produtos, produto_id)
        elif opcao == "6":
            produto_id = int(input("Digite o ID do produto a ser excluído: "))
            excluir_produto(produtos, produto_id)
        elif opcao == "7":
            salvar_produtos(produtos)
            print("Saindo do programa.")
            break
        else:
            print("Opção inválida. Escolha novamente.")

if __name__ == "__main__":
    main()
